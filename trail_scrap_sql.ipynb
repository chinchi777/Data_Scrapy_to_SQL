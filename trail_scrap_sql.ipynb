{
 "cells": [
  {
   "attachments": {},
   "cell_type": "markdown",
   "metadata": {},
   "source": [
    "匯入所需工具 BeautifulSoup, requests, pymysql, pandas\n",
    "設定sql連線"
   ]
  },
  {
   "cell_type": "code",
   "execution_count": 2,
   "metadata": {},
   "outputs": [],
   "source": [
    "import pymysql.cursors\n",
    "from dotenv import load_dotenv, find_dotenv\n",
    "import os\n",
    "load_dotenv(find_dotenv())\n",
    "\n",
    "\n",
    "conn = pymysql.connect(host=os.getenv(\"MYSQL_DB_HOST\"),\n",
    "                       user=os.getenv(\"MYSQL_USER\"),\n",
    "                       password=os.getenv(\"MYSQL_PASSWORD\"),\n",
    "                       database=os.getenv(\"MYSQL_DB_NAME\"),\n",
    "                       charset='utf8',\n",
    "                       cursorclass=pymysql.cursors.DictCursor)\n",
    "cur = conn.cursor()\n",
    "sql='''CREATE TABLE tabletrail(`步道名稱` char not null,`所在地` char,`網址` char,`步道難度` char,`步道長度` char,`所需時間` int,`熱門度` int,`到過人數` int,`點閱數` int)'''\n",
    "cur.execute(sql)\n",
    "conn.commit()\n",
    "conn.close()"
   ]
  },
  {
   "attachments": {},
   "cell_type": "markdown",
   "metadata": {},
   "source": [
    "建立所需list\n",
    "步道名稱,所在地,網址,步道難度,步道長度,所需時間,熱門度,到過人數,點閱數"
   ]
  },
  {
   "cell_type": "code",
   "execution_count": 4,
   "metadata": {},
   "outputs": [],
   "source": [
    "from bs4 import BeautifulSoup\n",
    "import requests\n",
    "import pandas as pd\n",
    "import sqlite3\n",
    "import pymysql\n",
    "\n",
    "\n",
    "item_list=[]\n",
    "area_list=[]\n",
    "link_list=[]\n",
    "piclink_list=[]\n",
    "\n",
    "info_list=[]\n",
    "diff_list=[]\n",
    "length_list=[]\n",
    "time_list=[]\n",
    "\n",
    "\n",
    "like_list=[]\n",
    "pop_list=[]\n",
    "gone_list=[]\n",
    "view_list=[]"
   ]
  },
  {
   "attachments": {},
   "cell_type": "markdown",
   "metadata": {},
   "source": [
    "設定爬蟲頁面 資料來源：健行筆記步道資訊頁面 共89頁\n",
    "取出資料後存入建立的list\n",
    "執行sql指令 將list匯入sql database"
   ]
  },
  {
   "cell_type": "code",
   "execution_count": null,
   "metadata": {},
   "outputs": [],
   "source": [
    "for page in range(1,86):#爬所有頁面的資訊 共86頁\n",
    "    res=requests.get(\"https://hiking.biji.co/index.php?q=trail&page=\"+ str(page))#第一頁的網址後續用str加頁數\n",
    "    soup=BeautifulSoup(res.text, \"html.parser\")\n",
    "    items = soup.select('h2',class_=\"text-xl truncate\")#取出步道名稱\n",
    "    items2 = soup.find_all('div',class_=\"text-base text-gray-600 flex-1 truncate\")#取出步道所在位置\n",
    "    items3 = soup.find_all('ul',class_=\"flex items-center space-x-2.5\")#取出步道其他資訊\n",
    "    items4 = soup.find_all('li',class_=\"flex items-center space-x-1.5\")#取出步道反饋資訊\n",
    "    items5 = soup.find_all('a',class_=\"w-56\")#取出步道照片網址\n",
    "\n",
    "    for i in items:\n",
    "        item_list.append(i.select_one(\"a\").getText())#取出步道名稱\n",
    "             \n",
    "        link_list.append(i.select_one(\"a\").get(\"href\"))#取出步道網址\n",
    "               \n",
    "    for i in items5:    \n",
    "        piclink_list.append(i.select_one(\"img\").get(\"data-src\"))#取出步道照片網址\n",
    "   \n",
    "     \n",
    "    for i in items2:\n",
    "        area_list.append(i.getText())#取出步道所在地      \n",
    "        \n",
    "    for i in items3:\n",
    "        info_list.append(i.getText())#取出步道資訊三筆合併成一個string需分割    \n",
    "        \n",
    "    for i in items4:\n",
    "        like_list.append(i.getText())#取出步道反饋資訊三筆合併成一個list   \n",
    "        \n",
    "pop_list=like_list[0::3]#取出熱門度\n",
    "gone_list=like_list[1::3]#取出到過人數\n",
    "view_list=like_list[2::3]#取出點閱數\n",
    "\n",
    "for i in info_list:#步道資訊整理 爬回的資料需分割\n",
    "    info=i.split()\n",
    "    diff_list.append(info[1])#取出步道難度\n",
    "    length_list.append(info[2])#取出步道長度\n",
    "    \n",
    "for i in info_list:#步道資訊整理 爬回的資料需分割\n",
    "    info=i.split(\"\\n\")\n",
    "    time_list.append(info[3])#取出步道所需時間   \n",
    "  \n",
    "\n",
    "for i in range(len(item_list)):# 資料匯入mysql 執行SQL指令\n",
    "    sql = '''INSERT INTO tabletrail (步道名稱,所在地,照片網址,連結網址,步道難度,步道長度,所需時間,熱門度,到過人數,點閱數) \n",
    "              VALUES (%s,%s,%s,%s,%s,%s,%s,%s,%s,%s) '''\n",
    "    cur.execute(sql,(item_list[i],area_list[i],piclink_list[i],link_list[i]\n",
    "                     ,diff_list[i],length_list[i],time_list[i]\n",
    "                     ,pop_list[i],gone_list[i],view_list[i]))   \n",
    "    conn.commit() "
   ]
  }
 ],
 "metadata": {
  "kernelspec": {
   "display_name": "base",
   "language": "python",
   "name": "python3"
  },
  "language_info": {
   "codemirror_mode": {
    "name": "ipython",
    "version": 3
   },
   "file_extension": ".py",
   "mimetype": "text/x-python",
   "name": "python",
   "nbconvert_exporter": "python",
   "pygments_lexer": "ipython3",
   "version": "3.10.11"
  },
  "orig_nbformat": 4
 },
 "nbformat": 4,
 "nbformat_minor": 2
}
